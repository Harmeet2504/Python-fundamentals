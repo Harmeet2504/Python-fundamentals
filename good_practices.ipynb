{
 "cells": [
  {
   "cell_type": "markdown",
   "metadata": {},
   "source": [
    "# Some good practices in python for concise coding"
   ]
  },
  {
   "cell_type": "markdown",
   "metadata": {},
   "source": [
    "### Assign multiple variables in one line of code"
   ]
  },
  {
   "cell_type": "code",
   "execution_count": 21,
   "metadata": {},
   "outputs": [
    {
     "name": "stdout",
     "output_type": "stream",
     "text": [
      "4\n",
      "6\n",
      "World\n"
     ]
    }
   ],
   "source": [
    "#General practice\n",
    "a = 4\n",
    "b = 6\n",
    "c ='World'\n",
    "\n",
    "#Good practice\n",
    "a,b,c = 4, 6, 'World'\n",
    "\n",
    "#Or assign as a list\n",
    "arr = [4, 6, 'World']\n",
    "a,b,c = arr\n",
    "\n",
    "print(a)\n",
    "print(b)\n",
    "print(c)"
   ]
  },
  {
   "cell_type": "markdown",
   "metadata": {},
   "source": [
    "### Conditional return in a single line of code"
   ]
  },
  {
   "cell_type": "code",
   "execution_count": 5,
   "metadata": {},
   "outputs": [
    {
     "data": {
      "text/plain": [
       "10"
      ]
     },
     "execution_count": 5,
     "metadata": {},
     "output_type": "execute_result"
    }
   ],
   "source": [
    "#General practice\n",
    "def compare_general (x,y):\n",
    "        if x > y:\n",
    "            return x\n",
    "        else:\n",
    "            return y\n",
    "\n",
    "        \n",
    "# compare (4,9)\n",
    "\n",
    "#Good practice\n",
    "def compare_good (x,y):\n",
    "    return x if x > y else y \n",
    "\n",
    "compare_good (5, 10)"
   ]
  },
  {
   "cell_type": "markdown",
   "metadata": {},
   "source": [
    "### List comprehension"
   ]
  },
  {
   "cell_type": "code",
   "execution_count": 2,
   "metadata": {},
   "outputs": [
    {
     "name": "stdout",
     "output_type": "stream",
     "text": [
      "[1, 4, 9, 16]\n"
     ]
    }
   ],
   "source": [
    "#General practice\n",
    "num = [1, 2, 3, 4]\n",
    "num_sqr= []\n",
    "for i in num:\n",
    "    num_sqr.append(i*i)\n",
    "    \n",
    "print (num_sqr)"
   ]
  },
  {
   "cell_type": "code",
   "execution_count": 5,
   "metadata": {},
   "outputs": [
    {
     "name": "stdout",
     "output_type": "stream",
     "text": [
      "[1, 4, 9, 16]\n"
     ]
    }
   ],
   "source": [
    "#Good practice\n",
    "num = [1, 2, 3, 4]\n",
    "num_sqr= []\n",
    "\n",
    "num_sqr=[i*i for i in num]\n",
    "    \n",
    "print (num_sqr)"
   ]
  },
  {
   "cell_type": "markdown",
   "metadata": {},
   "source": [
    "### Use zip to compare lists"
   ]
  },
  {
   "cell_type": "code",
   "execution_count": 29,
   "metadata": {},
   "outputs": [
    {
     "data": {
      "text/plain": [
       "[5, 6, 6, 8]"
      ]
     },
     "execution_count": 29,
     "metadata": {},
     "output_type": "execute_result"
    }
   ],
   "source": [
    "#General practice\n",
    "x = [5,6,5,8]\n",
    "y = [4,6,6,8]\n",
    "c =[]\n",
    "for i in range(len(x)):\n",
    "    c.append(x[i] if x[i] >  y[i] else y[i])\n",
    "    \n",
    "c"
   ]
  },
  {
   "cell_type": "code",
   "execution_count": 30,
   "metadata": {},
   "outputs": [
    {
     "data": {
      "text/plain": [
       "[5, 6, 6, 8]"
      ]
     },
     "execution_count": 30,
     "metadata": {},
     "output_type": "execute_result"
    }
   ],
   "source": [
    "#Good practice\n",
    "c = [max(i) for i in zip(x, y)]\n",
    "c"
   ]
  },
  {
   "cell_type": "markdown",
   "metadata": {},
   "source": [
    "### Use enumerate to access value and index"
   ]
  },
  {
   "cell_type": "code",
   "execution_count": 31,
   "metadata": {},
   "outputs": [
    {
     "name": "stdout",
     "output_type": "stream",
     "text": [
      "0 : 5\n",
      "1 : 6\n",
      "2 : 5\n",
      "3 : 8\n"
     ]
    }
   ],
   "source": [
    "#General practice\n",
    "x = [5,6,5,8]\n",
    "for i in range(len(x)):\n",
    "    print (f\"{i} : {x[i]}\")"
   ]
  },
  {
   "cell_type": "code",
   "execution_count": null,
   "metadata": {},
   "outputs": [],
   "source": [
    "#Good practice\n",
    "x = [5,6,5,8]\n",
    "for i, j in enumerate(x):\n",
    "    print(\"{i}:\")"
   ]
  }
 ],
 "metadata": {
  "kernelspec": {
   "display_name": "Python 3",
   "language": "python",
   "name": "python3"
  },
  "language_info": {
   "codemirror_mode": {
    "name": "ipython",
    "version": 3
   },
   "file_extension": ".py",
   "mimetype": "text/x-python",
   "name": "python",
   "nbconvert_exporter": "python",
   "pygments_lexer": "ipython3",
   "version": "3.7.3"
  }
 },
 "nbformat": 4,
 "nbformat_minor": 2
}
