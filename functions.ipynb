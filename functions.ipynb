{
 "cells": [
  {
   "cell_type": "markdown",
   "metadata": {},
   "source": [
    "# Python functions"
   ]
  },
  {
   "cell_type": "markdown",
   "metadata": {},
   "source": [
    "#Python function is a block of code that may or may not return a value.\n",
    "#It may or may not take arguments or parameters. One or multiple parameters can be passed into a function. \n",
    "#A function can be invoked inside another function.\n",
    "#The purpose of the function can be defined as documentation within '''\n",
    "#Constants defined within a function has a local scope, wheras defined outside a function has a global scope."
   ]
  },
  {
   "cell_type": "markdown",
   "metadata": {},
   "source": [
    "## Some examples to learn user defined functions"
   ]
  },
  {
   "cell_type": "code",
   "execution_count": 1,
   "metadata": {},
   "outputs": [
    {
     "name": "stdout",
     "output_type": "stream",
     "text": [
      "The wheels in the bus go round and round\n",
      "All through the town\n"
     ]
    }
   ],
   "source": [
    "def rhyme (word):\n",
    "    \n",
    "    '''Function with parameter called in main, does not return any value'''\n",
    "    \n",
    "    print(f\"The wheels in the bus go {word} and {word}\")\n",
    "    \n",
    "def main():\n",
    "    rhyme ('round')\n",
    "    print(\"All through the town\")\n",
    "    \n",
    "main()"
   ]
  },
  {
   "cell_type": "code",
   "execution_count": 2,
   "metadata": {},
   "outputs": [
    {
     "name": "stdout",
     "output_type": "stream",
     "text": [
      "10\n"
     ]
    }
   ],
   "source": [
    "def sum (a,b):\n",
    "    \n",
    "    '''Function with multiple parameters called in main, returns some value'''\n",
    "    \n",
    "    return(a+b)\n",
    "\n",
    "def main ():\n",
    "    c= sum(4,6) \n",
    "    print(c) \n",
    "    \n",
    "main()\n",
    "#sum(4,6)"
   ]
  },
  {
   "cell_type": "code",
   "execution_count": 3,
   "metadata": {},
   "outputs": [
    {
     "name": "stdout",
     "output_type": "stream",
     "text": [
      "Enter an integer: 2\n",
      "Enter another integer: 6\n",
      "The sum of 2 and 6 is 8.\n"
     ]
    }
   ],
   "source": [
    "def sum(a,b):\n",
    "    \n",
    "    '''Function with multiple parameters called in main, returns some value based on user input'''\n",
    "    \n",
    "    sum = a+b\n",
    "    sentence = 'The sum of {} and {} is {}.'.format(a, b, sum)\n",
    "    print(sentence)\n",
    "\n",
    "def main():\n",
    "    x = int(input(\"Enter an integer: \"))\n",
    "    y = int(input(\"Enter another integer: \"))\n",
    "    sum(x, y)\n",
    "\n",
    "main() "
   ]
  },
  {
   "cell_type": "code",
   "execution_count": 14,
   "metadata": {},
   "outputs": [
    {
     "name": "stdout",
     "output_type": "stream",
     "text": [
      "Current date and time : \n"
     ]
    },
    {
     "data": {
      "text/plain": [
       "'2020-04-09 19:07:01'"
      ]
     },
     "execution_count": 14,
     "metadata": {},
     "output_type": "execute_result"
    }
   ],
   "source": [
    "import datetime\n",
    "\n",
    "def current_date_time ():\n",
    "    \n",
    "    '''Function that returns current date and time'''\n",
    "    \n",
    "    c_date_time = datetime.datetime.now()\n",
    "    print (\"Current date and time : \")\n",
    "    return (c_date_time.strftime(\"%Y-%m-%d %H:%M:%S\"))\n",
    "\n",
    "current_date_time ()\n",
    "    "
   ]
  },
  {
   "cell_type": "code",
   "execution_count": 15,
   "metadata": {},
   "outputs": [
    {
     "name": "stdout",
     "output_type": "stream",
     "text": [
      "2020-04-09\n",
      "19:09:37.715409\n"
     ]
    }
   ],
   "source": [
    "import datetime\n",
    "\n",
    "def get_current_datetime():\n",
    "    \"\"\"\n",
    "    Returns the current date and current time as a tuple\n",
    "    \"\"\"\n",
    "    current_datetime = datetime.datetime.now()\n",
    "    current_date = current_datetime.date()\n",
    "    current_time = current_datetime.time()\n",
    "    return (current_date, current_time)\n",
    "\n",
    "date, time = get_current_datetime()\n",
    "print(date)\n",
    "print(time)"
   ]
  },
  {
   "cell_type": "code",
   "execution_count": 17,
   "metadata": {},
   "outputs": [
    {
     "name": "stdout",
     "output_type": "stream",
     "text": [
      "Enter fare to the destination: 450\n",
      "Enter fare from the destination: 400\n",
      "Enter number of days: 6\n",
      "Enter hotel rate per night: 100\n",
      "Enter food expense per day: 50\n",
      "The total expense of your trip is: \n"
     ]
    },
    {
     "data": {
      "text/plain": [
       "1750"
      ]
     },
     "execution_count": 17,
     "metadata": {},
     "output_type": "execute_result"
    }
   ],
   "source": [
    "#Function that returns expense of a trip\n",
    "\n",
    "def airfare(to, fro):\n",
    "    return (to + fro)\n",
    "\n",
    "def hotel (num_days, rate_per_night):\n",
    "    return (num_days*rate_per_night)\n",
    "\n",
    "def food (num_days, expense_per_day):\n",
    "    return (num_days*expense_per_day)\n",
    "\n",
    "def total ():\n",
    "    x = int(input(\"Enter fare to the destination: \"))\n",
    "    y = int(input(\"Enter fare from the destination: \"))\n",
    "    a = airfare(x, y)\n",
    "    m = int(input(\"Enter number of days: \"))\n",
    "    n = int(input(\"Enter hotel rate per night: \"))\n",
    "    o = int(input(\"Enter food expense per day: \"))\n",
    "    h = hotel (m,n)\n",
    "    f = food (m, o)\n",
    "    total = a + h + f\n",
    "    print (f\"The total expense of your trip is: \")\n",
    "    return (total)\n",
    "\n",
    "total()   "
   ]
  },
  {
   "cell_type": "code",
   "execution_count": 21,
   "metadata": {},
   "outputs": [
    {
     "name": "stdout",
     "output_type": "stream",
     "text": [
      "Enter the number of hours worked on Monday: 4\n",
      "Enter the number of hours worked on Tuesday: 5\n",
      "Enter the number of hours worked on Wednesday: 7\n",
      "Enter the number of hours worked on Thursday: 7\n",
      "Enter the number of hours worked on Friday: 4\n",
      "Total wage for the week is: \n"
     ]
    },
    {
     "data": {
      "text/plain": [
       "27"
      ]
     },
     "execution_count": 21,
     "metadata": {},
     "output_type": "execute_result"
    }
   ],
   "source": [
    "#Function to calculate weekly wage given that if working hours/day is less than 3, wage is 10/hr else 15/hr\n",
    "a = 10\n",
    "b= 15\n",
    "def wage (hours):\n",
    "    if hours < 3:\n",
    "        return hours*a\n",
    "    else: \n",
    "        return hours*b\n",
    "\n",
    "def main ():\n",
    "    x = int(input(\"Enter the number of hours worked on Monday: \"))\n",
    "    y = int(input(\"Enter the number of hours worked on Tuesday: \"))\n",
    "    z = int(input(\"Enter the number of hours worked on Wednesday: \"))\n",
    "    p = int(input(\"Enter the number of hours worked on Thursday: \"))\n",
    "    q = int(input(\"Enter the number of hours worked on Friday: \"))\n",
    "    \n",
    "    total_wage = x + y + z + p + q\n",
    "    print (\"Total wage for the week is: \")\n",
    "    return total_wage\n",
    "\n",
    "main()"
   ]
  },
  {
   "cell_type": "code",
   "execution_count": null,
   "metadata": {},
   "outputs": [],
   "source": []
  }
 ],
 "metadata": {
  "kernelspec": {
   "display_name": "Python 3",
   "language": "python",
   "name": "python3"
  },
  "language_info": {
   "codemirror_mode": {
    "name": "ipython",
    "version": 3
   },
   "file_extension": ".py",
   "mimetype": "text/x-python",
   "name": "python",
   "nbconvert_exporter": "python",
   "pygments_lexer": "ipython3",
   "version": "3.7.3"
  }
 },
 "nbformat": 4,
 "nbformat_minor": 2
}
